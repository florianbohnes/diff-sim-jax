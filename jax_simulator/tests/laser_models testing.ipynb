{
 "cells": [
  {
   "cell_type": "code",
   "execution_count": 4,
   "outputs": [
    {
     "name": "stdout",
     "output_type": "stream",
     "text": [
      "500.0\n"
     ]
    }
   ],
   "source": [
    "import jax.numpy as jnp\n",
    "theta_dis = 2000\n",
    "\n",
    "theta_index = theta_dis * (jnp.pi/ 2.) / (2. * jnp.pi)\n",
    "theta_index = jnp.fmod(theta_index, theta_dis)\n",
    "print(theta_index)"
   ],
   "metadata": {
    "collapsed": false,
    "ExecuteTime": {
     "end_time": "2024-01-25T14:49:52.089504Z",
     "start_time": "2024-01-25T14:49:50.492368Z"
    }
   },
   "id": "3c7919b8e33b2ad7"
  },
  {
   "cell_type": "code",
   "execution_count": 10,
   "outputs": [
    {
     "name": "stdout",
     "output_type": "stream",
     "text": [
      "[0.        0.5558644 1.1117288 1.6675932 2.2234576 2.779322 ]\n"
     ]
    }
   ],
   "source": [
    "import jax.numpy as jnp\n",
    "theta_dis = 1800\n",
    "theta_index_increment = 1000/1799\n",
    "theta_index2 = jnp.arange(0, jnp.pi, theta_index_increment)\n",
    "print(theta_index2)"
   ],
   "metadata": {
    "collapsed": false,
    "ExecuteTime": {
     "end_time": "2024-01-29T16:24:07.899307Z",
     "start_time": "2024-01-29T16:24:07.412067Z"
    }
   },
   "id": "b49f83589f722214"
  },
  {
   "cell_type": "code",
   "execution_count": 9,
   "outputs": [
    {
     "ename": "TypeError",
     "evalue": "'<class 'jaxlib.xla_extension.ArrayImpl'>' object does not support item assignment. JAX arrays are immutable. Instead of ``x[idx] = y``, use ``x = x.at[idx].set(y)`` or another .at[] method: https://jax.readthedocs.io/en/latest/_autosummary/jax.numpy.ndarray.at.html",
     "output_type": "error",
     "traceback": [
      "\u001B[0;31m---------------------------------------------------------------------------\u001B[0m",
      "\u001B[0;31mTypeError\u001B[0m                                 Traceback (most recent call last)",
      "Cell \u001B[0;32mIn[9], line 7\u001B[0m\n\u001B[1;32m      4\u001B[0m num_beams \u001B[38;5;241m=\u001B[39m \u001B[38;5;241m1800\u001B[39m\n\u001B[1;32m      5\u001B[0m \u001B[38;5;28;01mfor\u001B[39;00m i \u001B[38;5;129;01min\u001B[39;00m \u001B[38;5;28mrange\u001B[39m(\u001B[38;5;241m1\u001B[39m, num_beams):\n\u001B[1;32m      6\u001B[0m     \u001B[38;5;66;03m# increment the beam index\u001B[39;00m\n\u001B[0;32m----> 7\u001B[0m     \u001B[43mtheta_index2\u001B[49m\u001B[43m[\u001B[49m\u001B[43mi\u001B[49m\u001B[43m]\u001B[49m \u001B[38;5;241m=\u001B[39m theta_index2[i \u001B[38;5;241m-\u001B[39m \u001B[38;5;241m1\u001B[39m] \u001B[38;5;241m+\u001B[39m theta_index_increment\n\u001B[1;32m      8\u001B[0m \u001B[38;5;28mprint\u001B[39m(theta_index2)\n",
      "File \u001B[0;32m/usr/local/lib/python3.9/site-packages/jax/_src/numpy/array_methods.py:270\u001B[0m, in \u001B[0;36m_unimplemented_setitem\u001B[0;34m(self, i, x)\u001B[0m\n\u001B[1;32m    265\u001B[0m \u001B[38;5;28;01mdef\u001B[39;00m \u001B[38;5;21m_unimplemented_setitem\u001B[39m(\u001B[38;5;28mself\u001B[39m, i, x):\n\u001B[1;32m    266\u001B[0m   msg \u001B[38;5;241m=\u001B[39m (\u001B[38;5;124m\"\u001B[39m\u001B[38;5;124m'\u001B[39m\u001B[38;5;132;01m{}\u001B[39;00m\u001B[38;5;124m'\u001B[39m\u001B[38;5;124m object does not support item assignment. JAX arrays are \u001B[39m\u001B[38;5;124m\"\u001B[39m\n\u001B[1;32m    267\u001B[0m          \u001B[38;5;124m\"\u001B[39m\u001B[38;5;124mimmutable. Instead of ``x[idx] = y``, use ``x = x.at[idx].set(y)`` \u001B[39m\u001B[38;5;124m\"\u001B[39m\n\u001B[1;32m    268\u001B[0m          \u001B[38;5;124m\"\u001B[39m\u001B[38;5;124mor another .at[] method: \u001B[39m\u001B[38;5;124m\"\u001B[39m\n\u001B[1;32m    269\u001B[0m          \u001B[38;5;124m\"\u001B[39m\u001B[38;5;124mhttps://jax.readthedocs.io/en/latest/_autosummary/jax.numpy.ndarray.at.html\u001B[39m\u001B[38;5;124m\"\u001B[39m)\n\u001B[0;32m--> 270\u001B[0m   \u001B[38;5;28;01mraise\u001B[39;00m \u001B[38;5;167;01mTypeError\u001B[39;00m(msg\u001B[38;5;241m.\u001B[39mformat(\u001B[38;5;28mtype\u001B[39m(\u001B[38;5;28mself\u001B[39m)))\n",
      "\u001B[0;31mTypeError\u001B[0m: '<class 'jaxlib.xla_extension.ArrayImpl'>' object does not support item assignment. JAX arrays are immutable. Instead of ``x[idx] = y``, use ``x = x.at[idx].set(y)`` or another .at[] method: https://jax.readthedocs.io/en/latest/_autosummary/jax.numpy.ndarray.at.html"
     ]
    }
   ],
   "source": [
    "import numpy as np \n",
    "theta_dis = 1800\n",
    "theta_index_increment = np.pi / theta_dis\n",
    "num_beams = 1800\n",
    "for i in range(1, num_beams):\n",
    "    # increment the beam index\n",
    "    theta_index2[i] = theta_index2[i - 1] + theta_index_increment\n",
    "print(theta_index2)\n"
   ],
   "metadata": {
    "collapsed": false,
    "ExecuteTime": {
     "end_time": "2024-01-29T16:10:49.691491Z",
     "start_time": "2024-01-29T16:10:49.571962Z"
    }
   },
   "id": "64766fdac6ae2387"
  },
  {
   "cell_type": "code",
   "execution_count": 7,
   "outputs": [
    {
     "name": "stdout",
     "output_type": "stream",
     "text": [
      "1802\n"
     ]
    }
   ],
   "source": [
    "from jax import lax \n",
    "theta_index = -198\n",
    "theta_dis = 2000\n",
    "\n",
    "def cond_fun(theta_index):\n",
    "    return theta_index < 0\n",
    "def body_fun(theta_index):\n",
    "    return theta_index + theta_dis\n",
    "theta_index = lax.while_loop(cond_fun, body_fun, theta_index)\n",
    "print(theta_index)\n"
   ],
   "metadata": {
    "collapsed": false,
    "ExecuteTime": {
     "end_time": "2024-01-30T09:37:32.748214Z",
     "start_time": "2024-01-30T09:37:32.673101Z"
    }
   },
   "id": "e46cad035f2fffe7"
  },
  {
   "cell_type": "code",
   "execution_count": 13,
   "outputs": [
    {
     "name": "stdout",
     "output_type": "stream",
     "text": [
      "[[0. 0. 0.]\n",
      " [0. 0. 0.]]\n",
      "[[0. 0. 0.]\n",
      " [0. 0. 0.]]\n"
     ]
    }
   ],
   "source": [
    "import jax.numpy as jnp \n",
    "\n",
    "arr_empty = jnp.empty((2, 3))\n",
    "arr_zeros = jnp.zeros((2, 3))\n",
    "print(arr_empty)\n",
    "print(arr_zeros)"
   ],
   "metadata": {
    "collapsed": false,
    "ExecuteTime": {
     "end_time": "2024-01-30T09:50:03.762609Z",
     "start_time": "2024-01-30T09:50:03.675669Z"
    }
   },
   "id": "61af624e4b0aa881"
  },
  {
   "cell_type": "code",
   "execution_count": 29,
   "outputs": [
    {
     "name": "stdout",
     "output_type": "stream",
     "text": [
      "1080\n",
      "1080\n",
      "1080\n",
      "[ 800.       801.3865   802.77295 ... 2000.      2000.      2000.     ]\n"
     ]
    }
   ],
   "source": [
    "import jax.numpy as jnp \n",
    "import numpy as np \n",
    "\n",
    "theta_index_ = 800\n",
    "theta_index_increment = 1.3865\n",
    "num_beams = 1080\n",
    "theta_dis = 2000\n",
    "theta_index2_old = np.zeros((num_beams,))\n",
    "theta_index2_old[0] = theta_index_\n",
    "for i in range(1, num_beams):\n",
    "    # increment the beam index\n",
    "    theta_index2_old[i] = theta_index2_old[i - 1] + theta_index_increment\n",
    "\n",
    "theta_index2_new = jnp.arange(theta_index_, theta_index_+(num_beams * theta_index_increment), theta_index_increment)\n",
    "\n",
    "theta_index_arr_clipped = jnp.minimum(theta_index2_new, theta_dis)\n",
    "print(len(theta_index2_old))\n",
    "print(len(theta_index2_new))\n",
    "print(len(theta_index_arr_clipped))\n",
    "print(theta_index_arr_clipped)"
   ],
   "metadata": {
    "collapsed": false,
    "ExecuteTime": {
     "end_time": "2024-01-30T10:10:19.902790Z",
     "start_time": "2024-01-30T10:10:19.840271Z"
    }
   },
   "id": "db45f2daff906b46"
  },
  {
   "cell_type": "code",
   "execution_count": 4,
   "outputs": [
    {
     "name": "stdout",
     "output_type": "stream",
     "text": [
      "[0 1]\n",
      "Generator(PCG64)\n"
     ]
    }
   ],
   "source": [
    "import numpy as np \n",
    "from jax import random \n",
    "\n",
    "random = random.PRNGKey(1)\n",
    "random_numpy = np.random.default_rng(seed=1)\n",
    "print(random)\n",
    "print(random_numpy)"
   ],
   "metadata": {
    "collapsed": false,
    "ExecuteTime": {
     "end_time": "2024-01-31T15:49:31.536021Z",
     "start_time": "2024-01-31T15:49:31.484905Z"
    }
   },
   "id": "55ee7c905718b501"
  },
  {
   "cell_type": "code",
   "execution_count": 4,
   "outputs": [
    {
     "name": "stdout",
     "output_type": "stream",
     "text": [
      "[ 0.00266566  0.01134311 -0.00160945 ... -0.01251915  0.00264459\n",
      " -0.00865252]\n",
      "[ 0.00345584  0.00821618  0.00330437 ... -0.0050708   0.01580457\n",
      "  0.00178266]\n"
     ]
    }
   ],
   "source": [
    "import numpy as np \n",
    "from jax import random \n",
    "import jax.numpy as jnp \n",
    "\n",
    "std_dev = 0.01\n",
    "num_beams = 1080\n",
    "\n",
    "numpy_rng = np.random.default_rng(seed=1)\n",
    "jax_rng = random.PRNGKey(seed=1)\n",
    "\n",
    "noise_jax = random.normal(jax_rng, (num_beams,), dtype=jnp.float32) * std_dev\n",
    "noise_numpy = numpy_rng.normal(0., std_dev, num_beams)\n",
    "\n",
    "print(noise_jax)\n",
    "print(noise_numpy)"
   ],
   "metadata": {
    "collapsed": false,
    "ExecuteTime": {
     "end_time": "2024-02-02T10:32:40.875256Z",
     "start_time": "2024-02-02T10:32:39.968396Z"
    }
   },
   "id": "c51ca2b321d37a30"
  },
  {
   "cell_type": "code",
   "execution_count": null,
   "outputs": [],
   "source": [
    "import jax\n",
    "import jax.numpy as jnp\n",
    "\n",
    "# Assuming vertices is your input array\n",
    "vertices = jnp.array([[1, 2, 3], [4, 5, 6], [7, 8, 9]])\n",
    "\n",
    "# Define the rolling function\n",
    "def roll_fn(shift):\n",
    "    return jnp.roll(vertices, shift, axis=0)\n",
    "\n",
    "# Define the shift values from 0 to vertices.shape[0] - 1\n",
    "shift_values = jnp.arange(vertices.shape[0])\n",
    "\n",
    "# Use jax.vmap to apply the roll function to all shift values\n",
    "shifted_arrays = jax.vmap(roll_fn)(shift_values)\n",
    "\n",
    "# shifted_arrays is now a collection of arrays, each corresponding to a shifted version of vertices\n",
    "# shifted_arrays[0] corresponds to the original vertices, and shifted_arrays[i] corresponds to the vertices shifted by i positions\n",
    "\n",
    "print(shifted_arrays)"
   ],
   "metadata": {
    "collapsed": false,
    "ExecuteTime": {
     "end_time": "2024-02-05T20:03:19.854937Z",
     "start_time": "2024-02-05T20:03:19.843228Z"
    }
   },
   "id": "315e9bf5d2ac1638"
  },
  {
   "cell_type": "code",
   "execution_count": null,
   "outputs": [],
   "source": [],
   "metadata": {
    "collapsed": false
   },
   "id": "3d5c12316a1e9eb8"
  }
 ],
 "metadata": {
  "kernelspec": {
   "display_name": "Python 3",
   "language": "python",
   "name": "python3"
  },
  "language_info": {
   "codemirror_mode": {
    "name": "ipython",
    "version": 2
   },
   "file_extension": ".py",
   "mimetype": "text/x-python",
   "name": "python",
   "nbconvert_exporter": "python",
   "pygments_lexer": "ipython2",
   "version": "2.7.6"
  }
 },
 "nbformat": 4,
 "nbformat_minor": 5
}
