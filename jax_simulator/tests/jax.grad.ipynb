{
 "cells": [
  {
   "cell_type": "code",
   "execution_count": 7,
   "id": "initial_id",
   "metadata": {
    "collapsed": true,
    "ExecuteTime": {
     "end_time": "2024-03-20T12:43:03.994302Z",
     "start_time": "2024-03-20T12:43:01.651470Z"
    }
   },
   "outputs": [
    {
     "ename": "TypeError",
     "evalue": "sub got incompatible shapes for broadcasting: (6,), (4,).",
     "output_type": "error",
     "traceback": [
      "\u001B[0;31m---------------------------------------------------------------------------\u001B[0m",
      "\u001B[0;31mTypeError\u001B[0m                                 Traceback (most recent call last)",
      "Cell \u001B[0;32mIn[7], line 10\u001B[0m\n\u001B[1;32m      8\u001B[0m sum_squared_error_dx \u001B[38;5;241m=\u001B[39m grad(sum_squared_error)\n\u001B[1;32m      9\u001B[0m y \u001B[38;5;241m=\u001B[39m jnp\u001B[38;5;241m.\u001B[39masarray([\u001B[38;5;241m1.1\u001B[39m, \u001B[38;5;241m2.1\u001B[39m, \u001B[38;5;241m3.1\u001B[39m, \u001B[38;5;241m4.1\u001B[39m])\n\u001B[0;32m---> 10\u001B[0m \u001B[38;5;28mprint\u001B[39m(\u001B[43msum_squared_error_dx\u001B[49m\u001B[43m(\u001B[49m\u001B[43mx\u001B[49m\u001B[43m,\u001B[49m\u001B[43m \u001B[49m\u001B[43my\u001B[49m\u001B[43m)\u001B[49m)\n",
      "    \u001B[0;31m[... skipping hidden 10 frame]\u001B[0m\n",
      "Cell \u001B[0;32mIn[7], line 6\u001B[0m, in \u001B[0;36msum_squared_error\u001B[0;34m(x, y)\u001B[0m\n\u001B[1;32m      5\u001B[0m \u001B[38;5;28;01mdef\u001B[39;00m \u001B[38;5;21msum_squared_error\u001B[39m(x, y):\n\u001B[0;32m----> 6\u001B[0m   \u001B[38;5;28;01mreturn\u001B[39;00m jnp\u001B[38;5;241m.\u001B[39msum((\u001B[43mx\u001B[49m\u001B[38;5;241;43m-\u001B[39;49m\u001B[43my\u001B[49m)\u001B[38;5;241m*\u001B[39m\u001B[38;5;241m*\u001B[39m\u001B[38;5;241m2\u001B[39m)\n",
      "File \u001B[0;32m/usr/local/lib/python3.9/site-packages/jax/_src/numpy/array_methods.py:728\u001B[0m, in \u001B[0;36m_forward_operator_to_aval.<locals>.op\u001B[0;34m(self, *args)\u001B[0m\n\u001B[1;32m    727\u001B[0m \u001B[38;5;28;01mdef\u001B[39;00m \u001B[38;5;21mop\u001B[39m(\u001B[38;5;28mself\u001B[39m, \u001B[38;5;241m*\u001B[39margs):\n\u001B[0;32m--> 728\u001B[0m   \u001B[38;5;28;01mreturn\u001B[39;00m \u001B[38;5;28;43mgetattr\u001B[39;49m\u001B[43m(\u001B[49m\u001B[38;5;28;43mself\u001B[39;49m\u001B[38;5;241;43m.\u001B[39;49m\u001B[43maval\u001B[49m\u001B[43m,\u001B[49m\u001B[43m \u001B[49m\u001B[38;5;124;43mf\u001B[39;49m\u001B[38;5;124;43m\"\u001B[39;49m\u001B[38;5;124;43m_\u001B[39;49m\u001B[38;5;132;43;01m{\u001B[39;49;00m\u001B[43mname\u001B[49m\u001B[38;5;132;43;01m}\u001B[39;49;00m\u001B[38;5;124;43m\"\u001B[39;49m\u001B[43m)\u001B[49m\u001B[43m(\u001B[49m\u001B[38;5;28;43mself\u001B[39;49m\u001B[43m,\u001B[49m\u001B[43m \u001B[49m\u001B[38;5;241;43m*\u001B[39;49m\u001B[43margs\u001B[49m\u001B[43m)\u001B[49m\n",
      "File \u001B[0;32m/usr/local/lib/python3.9/site-packages/jax/_src/numpy/array_methods.py:256\u001B[0m, in \u001B[0;36m_defer_to_unrecognized_arg.<locals>.deferring_binary_op\u001B[0;34m(self, other)\u001B[0m\n\u001B[1;32m    254\u001B[0m args \u001B[38;5;241m=\u001B[39m (other, \u001B[38;5;28mself\u001B[39m) \u001B[38;5;28;01mif\u001B[39;00m swap \u001B[38;5;28;01melse\u001B[39;00m (\u001B[38;5;28mself\u001B[39m, other)\n\u001B[1;32m    255\u001B[0m \u001B[38;5;28;01mif\u001B[39;00m \u001B[38;5;28misinstance\u001B[39m(other, _accepted_binop_types):\n\u001B[0;32m--> 256\u001B[0m   \u001B[38;5;28;01mreturn\u001B[39;00m \u001B[43mbinary_op\u001B[49m\u001B[43m(\u001B[49m\u001B[38;5;241;43m*\u001B[39;49m\u001B[43margs\u001B[49m\u001B[43m)\u001B[49m\n\u001B[1;32m    257\u001B[0m \u001B[38;5;66;03m# Note: don't use isinstance here, because we don't want to raise for\u001B[39;00m\n\u001B[1;32m    258\u001B[0m \u001B[38;5;66;03m# subclasses, e.g. NamedTuple objects that may override operators.\u001B[39;00m\n\u001B[1;32m    259\u001B[0m \u001B[38;5;28;01mif\u001B[39;00m \u001B[38;5;28mtype\u001B[39m(other) \u001B[38;5;129;01min\u001B[39;00m _rejected_binop_types:\n",
      "    \u001B[0;31m[... skipping hidden 12 frame]\u001B[0m\n",
      "File \u001B[0;32m/usr/local/lib/python3.9/site-packages/jax/_src/numpy/ufuncs.py:82\u001B[0m, in \u001B[0;36m_one_to_one_binop.<locals>.<lambda>\u001B[0;34m(x1, x2)\u001B[0m\n\u001B[1;32m     80\u001B[0m   fn \u001B[38;5;241m=\u001B[39m \u001B[38;5;28;01mlambda\u001B[39;00m x1, x2, \u001B[38;5;241m/\u001B[39m: lax_fn(\u001B[38;5;241m*\u001B[39mpromote_args_numeric(numpy_fn\u001B[38;5;241m.\u001B[39m\u001B[38;5;18m__name__\u001B[39m, x1, x2))\n\u001B[1;32m     81\u001B[0m \u001B[38;5;28;01melse\u001B[39;00m:\n\u001B[0;32m---> 82\u001B[0m   fn \u001B[38;5;241m=\u001B[39m \u001B[38;5;28;01mlambda\u001B[39;00m x1, x2, \u001B[38;5;241m/\u001B[39m: \u001B[43mlax_fn\u001B[49m\u001B[43m(\u001B[49m\u001B[38;5;241;43m*\u001B[39;49m\u001B[43mpromote_args\u001B[49m\u001B[43m(\u001B[49m\u001B[43mnumpy_fn\u001B[49m\u001B[38;5;241;43m.\u001B[39;49m\u001B[38;5;18;43m__name__\u001B[39;49m\u001B[43m,\u001B[49m\u001B[43m \u001B[49m\u001B[43mx1\u001B[49m\u001B[43m,\u001B[49m\u001B[43m \u001B[49m\u001B[43mx2\u001B[49m\u001B[43m)\u001B[49m\u001B[43m)\u001B[49m\n\u001B[1;32m     83\u001B[0m fn\u001B[38;5;241m.\u001B[39m\u001B[38;5;18m__qualname__\u001B[39m \u001B[38;5;241m=\u001B[39m \u001B[38;5;124mf\u001B[39m\u001B[38;5;124m\"\u001B[39m\u001B[38;5;124mjax.numpy.\u001B[39m\u001B[38;5;132;01m{\u001B[39;00mnumpy_fn\u001B[38;5;241m.\u001B[39m\u001B[38;5;18m__name__\u001B[39m\u001B[38;5;132;01m}\u001B[39;00m\u001B[38;5;124m\"\u001B[39m\n\u001B[1;32m     84\u001B[0m fn \u001B[38;5;241m=\u001B[39m jit(fn, inline\u001B[38;5;241m=\u001B[39m\u001B[38;5;28;01mTrue\u001B[39;00m)\n",
      "    \u001B[0;31m[... skipping hidden 7 frame]\u001B[0m\n",
      "File \u001B[0;32m/usr/local/lib/python3.9/site-packages/jax/_src/lax/lax.py:1591\u001B[0m, in \u001B[0;36mbroadcasting_shape_rule\u001B[0;34m(name, *avals)\u001B[0m\n\u001B[1;32m   1589\u001B[0m       result_shape\u001B[38;5;241m.\u001B[39mappend(non_1s[\u001B[38;5;241m0\u001B[39m])\n\u001B[1;32m   1590\u001B[0m     \u001B[38;5;28;01melse\u001B[39;00m:\n\u001B[0;32m-> 1591\u001B[0m       \u001B[38;5;28;01mraise\u001B[39;00m \u001B[38;5;167;01mTypeError\u001B[39;00m(\u001B[38;5;124mf\u001B[39m\u001B[38;5;124m'\u001B[39m\u001B[38;5;132;01m{\u001B[39;00mname\u001B[38;5;132;01m}\u001B[39;00m\u001B[38;5;124m got incompatible shapes for broadcasting: \u001B[39m\u001B[38;5;124m'\u001B[39m\n\u001B[1;32m   1592\u001B[0m                       \u001B[38;5;124mf\u001B[39m\u001B[38;5;124m'\u001B[39m\u001B[38;5;132;01m{\u001B[39;00m\u001B[38;5;124m\"\u001B[39m\u001B[38;5;124m, \u001B[39m\u001B[38;5;124m\"\u001B[39m\u001B[38;5;241m.\u001B[39mjoin(\u001B[38;5;28mmap\u001B[39m(\u001B[38;5;28mstr\u001B[39m,\u001B[38;5;250m \u001B[39m\u001B[38;5;28mmap\u001B[39m(\u001B[38;5;28mtuple\u001B[39m,\u001B[38;5;250m \u001B[39mshapes)))\u001B[38;5;132;01m}\u001B[39;00m\u001B[38;5;124m.\u001B[39m\u001B[38;5;124m'\u001B[39m)\n\u001B[1;32m   1594\u001B[0m \u001B[38;5;28;01mreturn\u001B[39;00m \u001B[38;5;28mtuple\u001B[39m(result_shape)\n",
      "\u001B[0;31mTypeError\u001B[0m: sub got incompatible shapes for broadcasting: (6,), (4,)."
     ]
    }
   ],
   "source": [
    "import jax \n",
    "from jax import grad\n",
    "import jax.numpy as jnp \n",
    "\n",
    "def sum_squared_error(x, y):\n",
    "  return jnp.sum((x-y)**2)\n",
    "\n",
    "sum_squared_error_dx = grad(sum_squared_error)\n",
    "y = jnp.asarray([1.1, 2.1, 3.1, 4.1])\n",
    "print(sum_squared_error_dx(x, y))"
   ]
  },
  {
   "cell_type": "code",
   "execution_count": 4,
   "outputs": [],
   "source": [],
   "metadata": {
    "collapsed": false,
    "ExecuteTime": {
     "end_time": "2024-03-20T12:39:31.785951Z",
     "start_time": "2024-03-20T12:39:31.552676Z"
    }
   },
   "id": "eb461791ef8adee"
  },
  {
   "cell_type": "code",
   "execution_count": 4,
   "outputs": [],
   "source": [],
   "metadata": {
    "collapsed": false,
    "ExecuteTime": {
     "end_time": "2024-03-20T12:39:31.789419Z",
     "start_time": "2024-03-20T12:39:31.621698Z"
    }
   },
   "id": "ae3986e9943f1f3d"
  },
  {
   "cell_type": "code",
   "execution_count": null,
   "outputs": [],
   "source": [],
   "metadata": {
    "collapsed": false
   },
   "id": "6b7d2d2554fa9b84"
  }
 ],
 "metadata": {
  "kernelspec": {
   "display_name": "Python 3",
   "language": "python",
   "name": "python3"
  },
  "language_info": {
   "codemirror_mode": {
    "name": "ipython",
    "version": 2
   },
   "file_extension": ".py",
   "mimetype": "text/x-python",
   "name": "python",
   "nbconvert_exporter": "python",
   "pygments_lexer": "ipython2",
   "version": "2.7.6"
  }
 },
 "nbformat": 4,
 "nbformat_minor": 5
}
